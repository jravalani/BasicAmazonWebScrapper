{
 "cells": [
  {
   "cell_type": "code",
   "execution_count": 1,
   "id": "e1da30af-0f45-4780-b116-30bbda757743",
   "metadata": {},
   "outputs": [],
   "source": [
    "# Importing libraries\n",
    "from bs4 import BeautifulSoup\n",
    "import pandas as pd\n",
    "import requests\n",
    "import time\n",
    "import datetime"
   ]
  },
  {
   "cell_type": "code",
   "execution_count": 2,
   "id": "10c4b2c4-5a43-4be5-956a-d87c43f55d79",
   "metadata": {},
   "outputs": [
    {
     "name": "stdout",
     "output_type": "stream",
     "text": [
      "\n",
      "              OnePlus 11 5G (Eternal Green, 8GB RAM, 128GB Storage)\n",
      "             \n",
      "\n",
      "                                   56,999\n",
      "                                   \n",
      "                                    .\n",
      "                                   \n",
      "\n"
     ]
    }
   ],
   "source": [
    "# Setting a custom Amazon Product URL\n",
    "url = 'https://www.amazon.in/gp/product/B0BQJLCQD3/ref=s9_bw_cg_Budget_7a1_w?pf_rd_m=AT95IG9ONZD7S&pf_rd_s=merchandised-search-11&pf_rd_r=9Z4M6XJE5ZQH93X7BPAY&pf_rd_t=101&pf_rd_p=4d922f54-1d5b-46ab-b0fc-887cab592c09&pf_rd_i=1389401031'\n",
    "\n",
    "# We need to provide the local machines header\n",
    "# https://httpbin.org/get (Need only to copy the User-Agent)\n",
    "headers = {\"User-Agent\": \"Mozilla/5.0 (Windows NT 10.0; Win64; x64) AppleWebKit/537.36 (KHTML, like Gecko) Chrome/120.0.0.0 Safari/537.36 Edg/120.0.0.0\",}\n",
    "\n",
    "# Sending Requests\n",
    "page = requests.get(url, headers = headers)\n",
    "\n",
    "soup1 = BeautifulSoup(page.content, \"html.parser\")\n",
    "soup2 = BeautifulSoup(soup1.prettify(), \"html.parser\")\n",
    "\n",
    "title = soup2.find(id = 'productTitle').get_text()\n",
    "price = soup2.find('span', class_ = 'a-price-whole').text\n",
    "print(title)\n",
    "print(price)"
   ]
  },
  {
   "cell_type": "code",
   "execution_count": 3,
   "id": "7697b9c1-7920-4ffd-8808-86e8340ac5a6",
   "metadata": {},
   "outputs": [
    {
     "name": "stdout",
     "output_type": "stream",
     "text": [
      "56,999\n",
      "                                   \n",
      "                                    .\n",
      "56,999\n"
     ]
    }
   ],
   "source": [
    "# Cleaning the Price i.e removing unwanted characters and spaces\n",
    "price = price.strip()\n",
    "print(price)\n",
    "cleaned_price = ''.join(filter(lambda char: char.isdigit() or char == ',', price))\n",
    "print(cleaned_price)"
   ]
  },
  {
   "cell_type": "code",
   "execution_count": 4,
   "id": "4efddc91-7780-49b8-a074-7779573ce6d6",
   "metadata": {},
   "outputs": [
    {
     "name": "stdout",
     "output_type": "stream",
     "text": [
      "OnePlus 11 5G (Eternal Green, 8GB RAM, 128GB Storage)\n"
     ]
    }
   ],
   "source": [
    "# Cleaning the Title\n",
    "cleaned_title = title.strip()\n",
    "print(cleaned_title)"
   ]
  },
  {
   "cell_type": "code",
   "execution_count": 5,
   "id": "395f4b11-e5f5-4cf1-bf17-f302717a8c27",
   "metadata": {},
   "outputs": [
    {
     "name": "stdout",
     "output_type": "stream",
     "text": [
      "2024-01-09\n"
     ]
    }
   ],
   "source": [
    "# Adding Date\n",
    "today = datetime.date.today()\n",
    "print(today)"
   ]
  },
  {
   "cell_type": "code",
   "execution_count": 6,
   "id": "c5175372-8071-43e5-90c0-bf399e90fb34",
   "metadata": {},
   "outputs": [],
   "source": [
    "import csv\n",
    "\n",
    "header = ['Title', 'Price', 'Date']\n",
    "data = [cleaned_title, cleaned_price, today]\n",
    "\n",
    "with open('AmazonWebScrapper.csv', 'w', newline = '', encoding = 'UTF8') as f:\n",
    "    writer = csv.writer(f)\n",
    "    writer.writerow(header)\n",
    "    writer.writerow(data)"
   ]
  },
  {
   "cell_type": "code",
   "execution_count": 8,
   "id": "42c250fe-57cb-4560-a5d9-a94432f7790e",
   "metadata": {},
   "outputs": [
    {
     "data": {
      "text/html": [
       "<div>\n",
       "<style scoped>\n",
       "    .dataframe tbody tr th:only-of-type {\n",
       "        vertical-align: middle;\n",
       "    }\n",
       "\n",
       "    .dataframe tbody tr th {\n",
       "        vertical-align: top;\n",
       "    }\n",
       "\n",
       "    .dataframe thead th {\n",
       "        text-align: right;\n",
       "    }\n",
       "</style>\n",
       "<table border=\"1\" class=\"dataframe\">\n",
       "  <thead>\n",
       "    <tr style=\"text-align: right;\">\n",
       "      <th></th>\n",
       "      <th>Title</th>\n",
       "      <th>Price</th>\n",
       "      <th>Date</th>\n",
       "    </tr>\n",
       "  </thead>\n",
       "  <tbody>\n",
       "    <tr>\n",
       "      <th>0</th>\n",
       "      <td>OnePlus 11 5G (Eternal Green, 8GB RAM, 128GB S...</td>\n",
       "      <td>56,999</td>\n",
       "      <td>2024-01-09</td>\n",
       "    </tr>\n",
       "  </tbody>\n",
       "</table>\n",
       "</div>"
      ],
      "text/plain": [
       "                                               Title   Price        Date\n",
       "0  OnePlus 11 5G (Eternal Green, 8GB RAM, 128GB S...  56,999  2024-01-09"
      ]
     },
     "execution_count": 8,
     "metadata": {},
     "output_type": "execute_result"
    }
   ],
   "source": [
    "df = pd.read_csv(r'\\path\\to\\your\\directory\\AmazonWebScrapper.csv')\n",
    "df"
   ]
  }
 ],
 "metadata": {
  "kernelspec": {
   "display_name": "Python 3 (ipykernel)",
   "language": "python",
   "name": "python3"
  },
  "language_info": {
   "codemirror_mode": {
    "name": "ipython",
    "version": 3
   },
   "file_extension": ".py",
   "mimetype": "text/x-python",
   "name": "python",
   "nbconvert_exporter": "python",
   "pygments_lexer": "ipython3",
   "version": "3.11.4"
  }
 },
 "nbformat": 4,
 "nbformat_minor": 5
}
